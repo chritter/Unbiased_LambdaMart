{
 "cells": [
  {
   "cell_type": "markdown",
   "id": "8a7d7e0b-94a2-4615-a5b1-71d3029acd84",
   "metadata": {},
   "source": [
    "# Load Model for Predictions & Evaluate Predictions"
   ]
  },
  {
   "cell_type": "code",
   "execution_count": 1,
   "id": "963f9ae0-9ee5-4e2f-85c6-fb2a68815ce5",
   "metadata": {
    "execution": {
     "iopub.execute_input": "2022-01-04T19:46:28.911996Z",
     "iopub.status.busy": "2022-01-04T19:46:28.911413Z",
     "iopub.status.idle": "2022-01-04T19:46:30.089662Z",
     "shell.execute_reply": "2022-01-04T19:46:30.088099Z",
     "shell.execute_reply.started": "2022-01-04T19:46:28.911920Z"
    },
    "tags": []
   },
   "outputs": [],
   "source": [
    "import sys\n",
    "import pandas as pd\n",
    "import numpy as np"
   ]
  },
  {
   "cell_type": "code",
   "execution_count": 2,
   "id": "d2da737b-d983-4a4b-af61-f308e9895c33",
   "metadata": {
    "execution": {
     "iopub.execute_input": "2022-01-04T19:46:30.093505Z",
     "iopub.status.busy": "2022-01-04T19:46:30.092883Z",
     "iopub.status.idle": "2022-01-04T19:46:31.260539Z",
     "shell.execute_reply": "2022-01-04T19:46:31.259312Z",
     "shell.execute_reply.started": "2022-01-04T19:46:30.093409Z"
    },
    "tags": []
   },
   "outputs": [],
   "source": [
    "sys.path.append(\"../../../python-package\")\n",
    "import lightgbm as lgb"
   ]
  },
  {
   "cell_type": "markdown",
   "id": "ccc039f5-6abe-480b-92dd-4ae7c91e5188",
   "metadata": {},
   "source": [
    "## I. Read Model and Data"
   ]
  },
  {
   "cell_type": "code",
   "execution_count": 3,
   "id": "9ff3b813-8911-4a31-85a5-6396b72380ce",
   "metadata": {
    "execution": {
     "iopub.execute_input": "2022-01-04T19:46:31.263121Z",
     "iopub.status.busy": "2022-01-04T19:46:31.262727Z",
     "iopub.status.idle": "2022-01-04T19:46:31.291162Z",
     "shell.execute_reply": "2022-01-04T19:46:31.289847Z",
     "shell.execute_reply.started": "2022-01-04T19:46:31.263080Z"
    },
    "tags": []
   },
   "outputs": [],
   "source": [
    "model = lgb.Booster(model_file='LightGBM_model.txt')"
   ]
  },
  {
   "cell_type": "code",
   "execution_count": null,
   "id": "99d127b1-a641-4074-8a4a-14dfb833bd80",
   "metadata": {},
   "outputs": [],
   "source": []
  },
  {
   "cell_type": "code",
   "execution_count": 4,
   "id": "145fa24a-2447-4aa1-b648-081c11c59d51",
   "metadata": {
    "execution": {
     "iopub.execute_input": "2022-01-04T19:46:33.163440Z",
     "iopub.status.busy": "2022-01-04T19:46:33.163089Z",
     "iopub.status.idle": "2022-01-04T19:46:33.181003Z",
     "shell.execute_reply": "2022-01-04T19:46:33.176497Z",
     "shell.execute_reply.started": "2022-01-04T19:46:33.163407Z"
    },
    "tags": []
   },
   "outputs": [],
   "source": [
    "def parse_line(line):\n",
    "    \n",
    "    linesp = line.split()\n",
    "    score = linesp[0]\n",
    "    feats = linesp[1:]\n",
    "    feats = {el.split(\":\")[0]:float(el.split(\":\")[1]) for el in feats}\n",
    "    feats['score'] = float(score)\n",
    "    \n",
    "    return feats\n",
    "    \n",
    "def parse_test_file(filename, query_filename=None):\n",
    "    \n",
    "    with open(filename) as f:\n",
    "        lines = f.readlines()\n",
    "        \n",
    "    test = pd.DataFrame.from_dict([parse_line(line) for line in lines])\n",
    "    cols = test.columns.to_list()\n",
    "    cols.remove(\"score\")\n",
    "    cols_sorted = sorted(cols, key=lambda txt: int(txt))\n",
    "    \n",
    "    test = test[['score'] + cols_sorted]\n",
    "    \n",
    "    if not query_filename: return test\n",
    "    \n",
    "    queries = pd.read_csv(query_filename, header=None).astype(int)\n",
    "    #queries = queries.rename(columns={0:\"qid\"})\n",
    "    test_q = test.copy()\n",
    "\n",
    "    query_col = []\n",
    "    # set arbitrary but unique query id\n",
    "    for i, q in enumerate(queries[0]):\n",
    "        query_col.extend([i]*q)\n",
    "    len(query_col)\n",
    "\n",
    "    test_q.insert(0, 'qid', query_col)\n",
    "    \n",
    "    return test_q\n",
    "    \n",
    "    \n",
    "    "
   ]
  },
  {
   "cell_type": "code",
   "execution_count": 130,
   "id": "0c3ef13b-0139-4470-a224-83a5b40e6984",
   "metadata": {
    "execution": {
     "iopub.execute_input": "2022-01-04T21:18:51.789918Z",
     "iopub.status.busy": "2022-01-04T21:18:51.789505Z",
     "iopub.status.idle": "2022-01-04T21:18:52.389597Z",
     "shell.execute_reply": "2022-01-04T21:18:52.386960Z",
     "shell.execute_reply.started": "2022-01-04T21:18:51.789886Z"
    },
    "tags": []
   },
   "outputs": [
    {
     "data": {
      "text/html": [
       "<div>\n",
       "<style scoped>\n",
       "    .dataframe tbody tr th:only-of-type {\n",
       "        vertical-align: middle;\n",
       "    }\n",
       "\n",
       "    .dataframe tbody tr th {\n",
       "        vertical-align: top;\n",
       "    }\n",
       "\n",
       "    .dataframe thead th {\n",
       "        text-align: right;\n",
       "    }\n",
       "</style>\n",
       "<table border=\"1\" class=\"dataframe\">\n",
       "  <thead>\n",
       "    <tr style=\"text-align: right;\">\n",
       "      <th></th>\n",
       "      <th>qid</th>\n",
       "      <th>score</th>\n",
       "      <th>1</th>\n",
       "      <th>2</th>\n",
       "      <th>6</th>\n",
       "      <th>7</th>\n",
       "      <th>8</th>\n",
       "      <th>9</th>\n",
       "      <th>10</th>\n",
       "      <th>11</th>\n",
       "      <th>...</th>\n",
       "      <th>289</th>\n",
       "      <th>290</th>\n",
       "      <th>291</th>\n",
       "      <th>292</th>\n",
       "      <th>294</th>\n",
       "      <th>295</th>\n",
       "      <th>297</th>\n",
       "      <th>298</th>\n",
       "      <th>299</th>\n",
       "      <th>300</th>\n",
       "    </tr>\n",
       "  </thead>\n",
       "  <tbody>\n",
       "    <tr>\n",
       "      <th>0</th>\n",
       "      <td>0</td>\n",
       "      <td>0.0</td>\n",
       "      <td>NaN</td>\n",
       "      <td>NaN</td>\n",
       "      <td>NaN</td>\n",
       "      <td>NaN</td>\n",
       "      <td>NaN</td>\n",
       "      <td>NaN</td>\n",
       "      <td>0.89</td>\n",
       "      <td>0.75</td>\n",
       "      <td>...</td>\n",
       "      <td>NaN</td>\n",
       "      <td>NaN</td>\n",
       "      <td>NaN</td>\n",
       "      <td>NaN</td>\n",
       "      <td>NaN</td>\n",
       "      <td>NaN</td>\n",
       "      <td>NaN</td>\n",
       "      <td>NaN</td>\n",
       "      <td>NaN</td>\n",
       "      <td>0.43</td>\n",
       "    </tr>\n",
       "    <tr>\n",
       "      <th>1</th>\n",
       "      <td>1</td>\n",
       "      <td>1.0</td>\n",
       "      <td>0.69</td>\n",
       "      <td>NaN</td>\n",
       "      <td>NaN</td>\n",
       "      <td>NaN</td>\n",
       "      <td>NaN</td>\n",
       "      <td>NaN</td>\n",
       "      <td>NaN</td>\n",
       "      <td>0.64</td>\n",
       "      <td>...</td>\n",
       "      <td>NaN</td>\n",
       "      <td>0.53</td>\n",
       "      <td>NaN</td>\n",
       "      <td>NaN</td>\n",
       "      <td>NaN</td>\n",
       "      <td>NaN</td>\n",
       "      <td>0.36</td>\n",
       "      <td>NaN</td>\n",
       "      <td>NaN</td>\n",
       "      <td>0.25</td>\n",
       "    </tr>\n",
       "    <tr>\n",
       "      <th>2</th>\n",
       "      <td>1</td>\n",
       "      <td>0.0</td>\n",
       "      <td>0.69</td>\n",
       "      <td>NaN</td>\n",
       "      <td>NaN</td>\n",
       "      <td>NaN</td>\n",
       "      <td>NaN</td>\n",
       "      <td>NaN</td>\n",
       "      <td>NaN</td>\n",
       "      <td>0.64</td>\n",
       "      <td>...</td>\n",
       "      <td>NaN</td>\n",
       "      <td>0.75</td>\n",
       "      <td>NaN</td>\n",
       "      <td>NaN</td>\n",
       "      <td>NaN</td>\n",
       "      <td>NaN</td>\n",
       "      <td>0.36</td>\n",
       "      <td>NaN</td>\n",
       "      <td>NaN</td>\n",
       "      <td>0.43</td>\n",
       "    </tr>\n",
       "    <tr>\n",
       "      <th>3</th>\n",
       "      <td>1</td>\n",
       "      <td>1.0</td>\n",
       "      <td>NaN</td>\n",
       "      <td>NaN</td>\n",
       "      <td>NaN</td>\n",
       "      <td>NaN</td>\n",
       "      <td>NaN</td>\n",
       "      <td>NaN</td>\n",
       "      <td>NaN</td>\n",
       "      <td>0.64</td>\n",
       "      <td>...</td>\n",
       "      <td>NaN</td>\n",
       "      <td>NaN</td>\n",
       "      <td>NaN</td>\n",
       "      <td>NaN</td>\n",
       "      <td>NaN</td>\n",
       "      <td>NaN</td>\n",
       "      <td>NaN</td>\n",
       "      <td>NaN</td>\n",
       "      <td>NaN</td>\n",
       "      <td>0.43</td>\n",
       "    </tr>\n",
       "    <tr>\n",
       "      <th>4</th>\n",
       "      <td>1</td>\n",
       "      <td>0.0</td>\n",
       "      <td>0.69</td>\n",
       "      <td>NaN</td>\n",
       "      <td>NaN</td>\n",
       "      <td>0.72</td>\n",
       "      <td>NaN</td>\n",
       "      <td>NaN</td>\n",
       "      <td>NaN</td>\n",
       "      <td>0.64</td>\n",
       "      <td>...</td>\n",
       "      <td>NaN</td>\n",
       "      <td>0.59</td>\n",
       "      <td>NaN</td>\n",
       "      <td>NaN</td>\n",
       "      <td>NaN</td>\n",
       "      <td>NaN</td>\n",
       "      <td>0.36</td>\n",
       "      <td>NaN</td>\n",
       "      <td>NaN</td>\n",
       "      <td>0.33</td>\n",
       "    </tr>\n",
       "  </tbody>\n",
       "</table>\n",
       "<p>5 rows × 220 columns</p>\n",
       "</div>"
      ],
      "text/plain": [
       "   qid  score     1   2   6     7   8   9    10    11  ...  289   290  291  \\\n",
       "0    0    0.0   NaN NaN NaN   NaN NaN NaN  0.89  0.75  ...  NaN   NaN  NaN   \n",
       "1    1    1.0  0.69 NaN NaN   NaN NaN NaN   NaN  0.64  ...  NaN  0.53  NaN   \n",
       "2    1    0.0  0.69 NaN NaN   NaN NaN NaN   NaN  0.64  ...  NaN  0.75  NaN   \n",
       "3    1    1.0   NaN NaN NaN   NaN NaN NaN   NaN  0.64  ...  NaN   NaN  NaN   \n",
       "4    1    0.0  0.69 NaN NaN  0.72 NaN NaN   NaN  0.64  ...  NaN  0.59  NaN   \n",
       "\n",
       "   292  294  295   297  298  299   300  \n",
       "0  NaN  NaN  NaN   NaN  NaN  NaN  0.43  \n",
       "1  NaN  NaN  NaN  0.36  NaN  NaN  0.25  \n",
       "2  NaN  NaN  NaN  0.36  NaN  NaN  0.43  \n",
       "3  NaN  NaN  NaN   NaN  NaN  NaN  0.43  \n",
       "4  NaN  NaN  NaN  0.36  NaN  NaN  0.33  \n",
       "\n",
       "[5 rows x 220 columns]"
      ]
     },
     "execution_count": 130,
     "metadata": {},
     "output_type": "execute_result"
    }
   ],
   "source": [
    "train = parse_test_file(\"../rank.train\", \"../rank.train.query\")\n",
    "train.head()"
   ]
  },
  {
   "cell_type": "code",
   "execution_count": 131,
   "id": "1222036c-6325-4a96-80da-51220be5a9a5",
   "metadata": {
    "execution": {
     "iopub.execute_input": "2022-01-04T21:18:52.395305Z",
     "iopub.status.busy": "2022-01-04T21:18:52.393623Z",
     "iopub.status.idle": "2022-01-04T21:18:52.412397Z",
     "shell.execute_reply": "2022-01-04T21:18:52.406384Z",
     "shell.execute_reply.started": "2022-01-04T21:18:52.395262Z"
    },
    "tags": []
   },
   "outputs": [],
   "source": [
    "def adjust_features_for_model(model, df, extra_cols=['qid', 'score']):\n",
    "    \n",
    "    feat_cols = [col for col in df.columns if col not in extra_cols]\n",
    "    \n",
    "    all_feats = pd.DataFrame(columns=model.feature_name())\n",
    "\n",
    "    for col in feat_cols:\n",
    "        col_name = f\"Column_{col}\"\n",
    "        #print(col_name)\n",
    "        all_feats[col_name] = df[col]\n",
    "    all_feats = all_feats.astype(float)\n",
    "        \n",
    "    for col in extra_cols:\n",
    "        all_feats.insert(0, col, df[col])\n",
    "        \n",
    "    return all_feats"
   ]
  },
  {
   "cell_type": "code",
   "execution_count": 132,
   "id": "fc748178-a45f-493f-99e5-01512c23673a",
   "metadata": {
    "execution": {
     "iopub.execute_input": "2022-01-04T21:18:52.420272Z",
     "iopub.status.busy": "2022-01-04T21:18:52.419280Z",
     "iopub.status.idle": "2022-01-04T21:18:53.579995Z",
     "shell.execute_reply": "2022-01-04T21:18:53.578667Z",
     "shell.execute_reply.started": "2022-01-04T21:18:52.420209Z"
    },
    "tags": []
   },
   "outputs": [
    {
     "name": "stderr",
     "output_type": "stream",
     "text": [
      "/Users/christian/opt/anaconda3/envs/searchrec/lib/python3.7/site-packages/IPython/core/interactiveshell.py:3444: PerformanceWarning: DataFrame is highly fragmented.  This is usually the result of calling `frame.insert` many times, which has poor performance.  Consider joining all columns at once using pd.concat(axis=1) instead.  To get a de-fragmented frame, use `newframe = frame.copy()`\n",
      "  exec(code_obj, self.user_global_ns, self.user_ns)\n"
     ]
    }
   ],
   "source": [
    "train = adjust_features_for_model(model, train)"
   ]
  },
  {
   "cell_type": "code",
   "execution_count": 133,
   "id": "dc243467-60ce-4dee-9287-ea299e6264c0",
   "metadata": {
    "execution": {
     "iopub.execute_input": "2022-01-04T21:18:53.590176Z",
     "iopub.status.busy": "2022-01-04T21:18:53.587791Z",
     "iopub.status.idle": "2022-01-04T21:18:53.632581Z",
     "shell.execute_reply": "2022-01-04T21:18:53.631759Z",
     "shell.execute_reply.started": "2022-01-04T21:18:53.590119Z"
    },
    "tags": []
   },
   "outputs": [
    {
     "data": {
      "text/html": [
       "<div>\n",
       "<style scoped>\n",
       "    .dataframe tbody tr th:only-of-type {\n",
       "        vertical-align: middle;\n",
       "    }\n",
       "\n",
       "    .dataframe tbody tr th {\n",
       "        vertical-align: top;\n",
       "    }\n",
       "\n",
       "    .dataframe thead th {\n",
       "        text-align: right;\n",
       "    }\n",
       "</style>\n",
       "<table border=\"1\" class=\"dataframe\">\n",
       "  <thead>\n",
       "    <tr style=\"text-align: right;\">\n",
       "      <th></th>\n",
       "      <th>score</th>\n",
       "      <th>qid</th>\n",
       "      <th>Column_0</th>\n",
       "      <th>Column_1</th>\n",
       "      <th>Column_2</th>\n",
       "      <th>Column_3</th>\n",
       "      <th>Column_4</th>\n",
       "      <th>Column_5</th>\n",
       "      <th>Column_6</th>\n",
       "      <th>Column_7</th>\n",
       "      <th>...</th>\n",
       "      <th>Column_291</th>\n",
       "      <th>Column_292</th>\n",
       "      <th>Column_293</th>\n",
       "      <th>Column_294</th>\n",
       "      <th>Column_295</th>\n",
       "      <th>Column_296</th>\n",
       "      <th>Column_297</th>\n",
       "      <th>Column_298</th>\n",
       "      <th>Column_299</th>\n",
       "      <th>Column_300</th>\n",
       "    </tr>\n",
       "  </thead>\n",
       "  <tbody>\n",
       "    <tr>\n",
       "      <th>0</th>\n",
       "      <td>0.0</td>\n",
       "      <td>0</td>\n",
       "      <td>NaN</td>\n",
       "      <td>NaN</td>\n",
       "      <td>NaN</td>\n",
       "      <td>NaN</td>\n",
       "      <td>NaN</td>\n",
       "      <td>NaN</td>\n",
       "      <td>NaN</td>\n",
       "      <td>NaN</td>\n",
       "      <td>...</td>\n",
       "      <td>NaN</td>\n",
       "      <td>NaN</td>\n",
       "      <td>NaN</td>\n",
       "      <td>NaN</td>\n",
       "      <td>NaN</td>\n",
       "      <td>NaN</td>\n",
       "      <td>NaN</td>\n",
       "      <td>NaN</td>\n",
       "      <td>NaN</td>\n",
       "      <td>0.43</td>\n",
       "    </tr>\n",
       "    <tr>\n",
       "      <th>1</th>\n",
       "      <td>1.0</td>\n",
       "      <td>1</td>\n",
       "      <td>NaN</td>\n",
       "      <td>0.69</td>\n",
       "      <td>NaN</td>\n",
       "      <td>NaN</td>\n",
       "      <td>NaN</td>\n",
       "      <td>NaN</td>\n",
       "      <td>NaN</td>\n",
       "      <td>NaN</td>\n",
       "      <td>...</td>\n",
       "      <td>NaN</td>\n",
       "      <td>NaN</td>\n",
       "      <td>NaN</td>\n",
       "      <td>NaN</td>\n",
       "      <td>NaN</td>\n",
       "      <td>NaN</td>\n",
       "      <td>0.36</td>\n",
       "      <td>NaN</td>\n",
       "      <td>NaN</td>\n",
       "      <td>0.25</td>\n",
       "    </tr>\n",
       "    <tr>\n",
       "      <th>2</th>\n",
       "      <td>0.0</td>\n",
       "      <td>1</td>\n",
       "      <td>NaN</td>\n",
       "      <td>0.69</td>\n",
       "      <td>NaN</td>\n",
       "      <td>NaN</td>\n",
       "      <td>NaN</td>\n",
       "      <td>NaN</td>\n",
       "      <td>NaN</td>\n",
       "      <td>NaN</td>\n",
       "      <td>...</td>\n",
       "      <td>NaN</td>\n",
       "      <td>NaN</td>\n",
       "      <td>NaN</td>\n",
       "      <td>NaN</td>\n",
       "      <td>NaN</td>\n",
       "      <td>NaN</td>\n",
       "      <td>0.36</td>\n",
       "      <td>NaN</td>\n",
       "      <td>NaN</td>\n",
       "      <td>0.43</td>\n",
       "    </tr>\n",
       "    <tr>\n",
       "      <th>3</th>\n",
       "      <td>1.0</td>\n",
       "      <td>1</td>\n",
       "      <td>NaN</td>\n",
       "      <td>NaN</td>\n",
       "      <td>NaN</td>\n",
       "      <td>NaN</td>\n",
       "      <td>NaN</td>\n",
       "      <td>NaN</td>\n",
       "      <td>NaN</td>\n",
       "      <td>NaN</td>\n",
       "      <td>...</td>\n",
       "      <td>NaN</td>\n",
       "      <td>NaN</td>\n",
       "      <td>NaN</td>\n",
       "      <td>NaN</td>\n",
       "      <td>NaN</td>\n",
       "      <td>NaN</td>\n",
       "      <td>NaN</td>\n",
       "      <td>NaN</td>\n",
       "      <td>NaN</td>\n",
       "      <td>0.43</td>\n",
       "    </tr>\n",
       "    <tr>\n",
       "      <th>4</th>\n",
       "      <td>0.0</td>\n",
       "      <td>1</td>\n",
       "      <td>NaN</td>\n",
       "      <td>0.69</td>\n",
       "      <td>NaN</td>\n",
       "      <td>NaN</td>\n",
       "      <td>NaN</td>\n",
       "      <td>NaN</td>\n",
       "      <td>NaN</td>\n",
       "      <td>0.72</td>\n",
       "      <td>...</td>\n",
       "      <td>NaN</td>\n",
       "      <td>NaN</td>\n",
       "      <td>NaN</td>\n",
       "      <td>NaN</td>\n",
       "      <td>NaN</td>\n",
       "      <td>NaN</td>\n",
       "      <td>0.36</td>\n",
       "      <td>NaN</td>\n",
       "      <td>NaN</td>\n",
       "      <td>0.33</td>\n",
       "    </tr>\n",
       "  </tbody>\n",
       "</table>\n",
       "<p>5 rows × 303 columns</p>\n",
       "</div>"
      ],
      "text/plain": [
       "   score  qid  Column_0  Column_1  Column_2  Column_3  Column_4  Column_5  \\\n",
       "0    0.0    0       NaN       NaN       NaN       NaN       NaN       NaN   \n",
       "1    1.0    1       NaN      0.69       NaN       NaN       NaN       NaN   \n",
       "2    0.0    1       NaN      0.69       NaN       NaN       NaN       NaN   \n",
       "3    1.0    1       NaN       NaN       NaN       NaN       NaN       NaN   \n",
       "4    0.0    1       NaN      0.69       NaN       NaN       NaN       NaN   \n",
       "\n",
       "   Column_6  Column_7  ...  Column_291  Column_292  Column_293  Column_294  \\\n",
       "0       NaN       NaN  ...         NaN         NaN         NaN         NaN   \n",
       "1       NaN       NaN  ...         NaN         NaN         NaN         NaN   \n",
       "2       NaN       NaN  ...         NaN         NaN         NaN         NaN   \n",
       "3       NaN       NaN  ...         NaN         NaN         NaN         NaN   \n",
       "4       NaN      0.72  ...         NaN         NaN         NaN         NaN   \n",
       "\n",
       "   Column_295  Column_296  Column_297  Column_298  Column_299  Column_300  \n",
       "0         NaN         NaN         NaN         NaN         NaN        0.43  \n",
       "1         NaN         NaN        0.36         NaN         NaN        0.25  \n",
       "2         NaN         NaN        0.36         NaN         NaN        0.43  \n",
       "3         NaN         NaN         NaN         NaN         NaN        0.43  \n",
       "4         NaN         NaN        0.36         NaN         NaN        0.33  \n",
       "\n",
       "[5 rows x 303 columns]"
      ]
     },
     "execution_count": 133,
     "metadata": {},
     "output_type": "execute_result"
    }
   ],
   "source": [
    "train.head()"
   ]
  },
  {
   "cell_type": "markdown",
   "id": "ab1a7884-f0ff-4859-8930-4bf7b586668e",
   "metadata": {},
   "source": [
    "## II. Predictions"
   ]
  },
  {
   "cell_type": "code",
   "execution_count": 134,
   "id": "8473909c-a91e-4a0e-b824-b8b7322405f4",
   "metadata": {
    "execution": {
     "iopub.execute_input": "2022-01-04T21:18:53.637052Z",
     "iopub.status.busy": "2022-01-04T21:18:53.634783Z",
     "iopub.status.idle": "2022-01-04T21:18:53.745649Z",
     "shell.execute_reply": "2022-01-04T21:18:53.744779Z",
     "shell.execute_reply.started": "2022-01-04T21:18:53.636980Z"
    },
    "tags": []
   },
   "outputs": [],
   "source": [
    "preds = model.predict(train[train.columns[2:]])"
   ]
  },
  {
   "cell_type": "code",
   "execution_count": 135,
   "id": "5c145acb-5ec7-4d35-a0a2-5af27aff866d",
   "metadata": {
    "execution": {
     "iopub.execute_input": "2022-01-04T21:18:53.757936Z",
     "iopub.status.busy": "2022-01-04T21:18:53.754243Z",
     "iopub.status.idle": "2022-01-04T21:18:53.787195Z",
     "shell.execute_reply": "2022-01-04T21:18:53.783970Z",
     "shell.execute_reply.started": "2022-01-04T21:18:53.757877Z"
    },
    "tags": []
   },
   "outputs": [
    {
     "data": {
      "text/plain": [
       "array([ 0.01086442, -0.3786556 , -0.63524116, -0.64576398, -0.87648762,\n",
       "       -0.13169932, -0.98025601,  0.22082931,  0.30044498, -0.89260241])"
      ]
     },
     "execution_count": 135,
     "metadata": {},
     "output_type": "execute_result"
    }
   ],
   "source": [
    "preds[:10]"
   ]
  },
  {
   "cell_type": "code",
   "execution_count": 136,
   "id": "91ff8b92-41be-4cf7-96b0-941838d8939b",
   "metadata": {
    "execution": {
     "iopub.execute_input": "2022-01-04T21:18:53.789391Z",
     "iopub.status.busy": "2022-01-04T21:18:53.788519Z",
     "iopub.status.idle": "2022-01-04T21:18:53.815112Z",
     "shell.execute_reply": "2022-01-04T21:18:53.813621Z",
     "shell.execute_reply.started": "2022-01-04T21:18:53.789343Z"
    },
    "tags": []
   },
   "outputs": [],
   "source": [
    "cli_preds = pd.read_csv(\"predict_result_train.txt\", header=None)[0]"
   ]
  },
  {
   "cell_type": "code",
   "execution_count": 137,
   "id": "9c8b8179-07b9-47d7-8459-4a9f1dc7c84f",
   "metadata": {
    "execution": {
     "iopub.execute_input": "2022-01-04T21:18:53.819459Z",
     "iopub.status.busy": "2022-01-04T21:18:53.817460Z",
     "iopub.status.idle": "2022-01-04T21:18:53.835352Z",
     "shell.execute_reply": "2022-01-04T21:18:53.834401Z",
     "shell.execute_reply.started": "2022-01-04T21:18:53.819410Z"
    },
    "tags": []
   },
   "outputs": [
    {
     "data": {
      "text/plain": [
       "0    0.010864\n",
       "1   -0.378656\n",
       "2   -0.635241\n",
       "3   -0.645764\n",
       "4   -0.876488\n",
       "5   -0.131699\n",
       "6   -0.980256\n",
       "7    0.220829\n",
       "8    0.300445\n",
       "9   -0.892602\n",
       "Name: 0, dtype: float64"
      ]
     },
     "execution_count": 137,
     "metadata": {},
     "output_type": "execute_result"
    }
   ],
   "source": [
    "cli_preds[:10]"
   ]
  },
  {
   "cell_type": "markdown",
   "id": "edde5766-fa44-445b-85e6-9139f3a7c8de",
   "metadata": {
    "tags": []
   },
   "source": [
    "## III. Evaluate Predictions"
   ]
  },
  {
   "cell_type": "code",
   "execution_count": 138,
   "id": "c3e3fbb8-258e-4382-9731-fa301540c5d8",
   "metadata": {
    "execution": {
     "iopub.execute_input": "2022-01-04T21:18:53.843741Z",
     "iopub.status.busy": "2022-01-04T21:18:53.841111Z",
     "iopub.status.idle": "2022-01-04T21:18:53.857685Z",
     "shell.execute_reply": "2022-01-04T21:18:53.853557Z",
     "shell.execute_reply.started": "2022-01-04T21:18:53.842213Z"
    },
    "tags": []
   },
   "outputs": [],
   "source": [
    "train.insert(2, 'score_pred', preds)"
   ]
  },
  {
   "cell_type": "code",
   "execution_count": 139,
   "id": "d5f5e366-a72a-4080-8a24-3ed44f384753",
   "metadata": {
    "execution": {
     "iopub.execute_input": "2022-01-04T21:18:54.378981Z",
     "iopub.status.busy": "2022-01-04T21:18:54.378644Z",
     "iopub.status.idle": "2022-01-04T21:18:54.412925Z",
     "shell.execute_reply": "2022-01-04T21:18:54.409626Z",
     "shell.execute_reply.started": "2022-01-04T21:18:54.378950Z"
    },
    "tags": []
   },
   "outputs": [
    {
     "data": {
      "text/html": [
       "<div>\n",
       "<style scoped>\n",
       "    .dataframe tbody tr th:only-of-type {\n",
       "        vertical-align: middle;\n",
       "    }\n",
       "\n",
       "    .dataframe tbody tr th {\n",
       "        vertical-align: top;\n",
       "    }\n",
       "\n",
       "    .dataframe thead th {\n",
       "        text-align: right;\n",
       "    }\n",
       "</style>\n",
       "<table border=\"1\" class=\"dataframe\">\n",
       "  <thead>\n",
       "    <tr style=\"text-align: right;\">\n",
       "      <th></th>\n",
       "      <th>score</th>\n",
       "      <th>qid</th>\n",
       "      <th>score_pred</th>\n",
       "      <th>Column_0</th>\n",
       "      <th>Column_1</th>\n",
       "      <th>Column_2</th>\n",
       "      <th>Column_3</th>\n",
       "      <th>Column_4</th>\n",
       "      <th>Column_5</th>\n",
       "      <th>Column_6</th>\n",
       "      <th>...</th>\n",
       "      <th>Column_291</th>\n",
       "      <th>Column_292</th>\n",
       "      <th>Column_293</th>\n",
       "      <th>Column_294</th>\n",
       "      <th>Column_295</th>\n",
       "      <th>Column_296</th>\n",
       "      <th>Column_297</th>\n",
       "      <th>Column_298</th>\n",
       "      <th>Column_299</th>\n",
       "      <th>Column_300</th>\n",
       "    </tr>\n",
       "  </thead>\n",
       "  <tbody>\n",
       "    <tr>\n",
       "      <th>0</th>\n",
       "      <td>0.0</td>\n",
       "      <td>0</td>\n",
       "      <td>0.010864</td>\n",
       "      <td>NaN</td>\n",
       "      <td>NaN</td>\n",
       "      <td>NaN</td>\n",
       "      <td>NaN</td>\n",
       "      <td>NaN</td>\n",
       "      <td>NaN</td>\n",
       "      <td>NaN</td>\n",
       "      <td>...</td>\n",
       "      <td>NaN</td>\n",
       "      <td>NaN</td>\n",
       "      <td>NaN</td>\n",
       "      <td>NaN</td>\n",
       "      <td>NaN</td>\n",
       "      <td>NaN</td>\n",
       "      <td>NaN</td>\n",
       "      <td>NaN</td>\n",
       "      <td>NaN</td>\n",
       "      <td>0.43</td>\n",
       "    </tr>\n",
       "    <tr>\n",
       "      <th>1</th>\n",
       "      <td>1.0</td>\n",
       "      <td>1</td>\n",
       "      <td>-0.378656</td>\n",
       "      <td>NaN</td>\n",
       "      <td>0.69</td>\n",
       "      <td>NaN</td>\n",
       "      <td>NaN</td>\n",
       "      <td>NaN</td>\n",
       "      <td>NaN</td>\n",
       "      <td>NaN</td>\n",
       "      <td>...</td>\n",
       "      <td>NaN</td>\n",
       "      <td>NaN</td>\n",
       "      <td>NaN</td>\n",
       "      <td>NaN</td>\n",
       "      <td>NaN</td>\n",
       "      <td>NaN</td>\n",
       "      <td>0.36</td>\n",
       "      <td>NaN</td>\n",
       "      <td>NaN</td>\n",
       "      <td>0.25</td>\n",
       "    </tr>\n",
       "    <tr>\n",
       "      <th>2</th>\n",
       "      <td>0.0</td>\n",
       "      <td>1</td>\n",
       "      <td>-0.635241</td>\n",
       "      <td>NaN</td>\n",
       "      <td>0.69</td>\n",
       "      <td>NaN</td>\n",
       "      <td>NaN</td>\n",
       "      <td>NaN</td>\n",
       "      <td>NaN</td>\n",
       "      <td>NaN</td>\n",
       "      <td>...</td>\n",
       "      <td>NaN</td>\n",
       "      <td>NaN</td>\n",
       "      <td>NaN</td>\n",
       "      <td>NaN</td>\n",
       "      <td>NaN</td>\n",
       "      <td>NaN</td>\n",
       "      <td>0.36</td>\n",
       "      <td>NaN</td>\n",
       "      <td>NaN</td>\n",
       "      <td>0.43</td>\n",
       "    </tr>\n",
       "    <tr>\n",
       "      <th>3</th>\n",
       "      <td>1.0</td>\n",
       "      <td>1</td>\n",
       "      <td>-0.645764</td>\n",
       "      <td>NaN</td>\n",
       "      <td>NaN</td>\n",
       "      <td>NaN</td>\n",
       "      <td>NaN</td>\n",
       "      <td>NaN</td>\n",
       "      <td>NaN</td>\n",
       "      <td>NaN</td>\n",
       "      <td>...</td>\n",
       "      <td>NaN</td>\n",
       "      <td>NaN</td>\n",
       "      <td>NaN</td>\n",
       "      <td>NaN</td>\n",
       "      <td>NaN</td>\n",
       "      <td>NaN</td>\n",
       "      <td>NaN</td>\n",
       "      <td>NaN</td>\n",
       "      <td>NaN</td>\n",
       "      <td>0.43</td>\n",
       "    </tr>\n",
       "    <tr>\n",
       "      <th>4</th>\n",
       "      <td>0.0</td>\n",
       "      <td>1</td>\n",
       "      <td>-0.876488</td>\n",
       "      <td>NaN</td>\n",
       "      <td>0.69</td>\n",
       "      <td>NaN</td>\n",
       "      <td>NaN</td>\n",
       "      <td>NaN</td>\n",
       "      <td>NaN</td>\n",
       "      <td>NaN</td>\n",
       "      <td>...</td>\n",
       "      <td>NaN</td>\n",
       "      <td>NaN</td>\n",
       "      <td>NaN</td>\n",
       "      <td>NaN</td>\n",
       "      <td>NaN</td>\n",
       "      <td>NaN</td>\n",
       "      <td>0.36</td>\n",
       "      <td>NaN</td>\n",
       "      <td>NaN</td>\n",
       "      <td>0.33</td>\n",
       "    </tr>\n",
       "  </tbody>\n",
       "</table>\n",
       "<p>5 rows × 304 columns</p>\n",
       "</div>"
      ],
      "text/plain": [
       "   score  qid  score_pred  Column_0  Column_1  Column_2  Column_3  Column_4  \\\n",
       "0    0.0    0    0.010864       NaN       NaN       NaN       NaN       NaN   \n",
       "1    1.0    1   -0.378656       NaN      0.69       NaN       NaN       NaN   \n",
       "2    0.0    1   -0.635241       NaN      0.69       NaN       NaN       NaN   \n",
       "3    1.0    1   -0.645764       NaN       NaN       NaN       NaN       NaN   \n",
       "4    0.0    1   -0.876488       NaN      0.69       NaN       NaN       NaN   \n",
       "\n",
       "   Column_5  Column_6  ...  Column_291  Column_292  Column_293  Column_294  \\\n",
       "0       NaN       NaN  ...         NaN         NaN         NaN         NaN   \n",
       "1       NaN       NaN  ...         NaN         NaN         NaN         NaN   \n",
       "2       NaN       NaN  ...         NaN         NaN         NaN         NaN   \n",
       "3       NaN       NaN  ...         NaN         NaN         NaN         NaN   \n",
       "4       NaN       NaN  ...         NaN         NaN         NaN         NaN   \n",
       "\n",
       "   Column_295  Column_296  Column_297  Column_298  Column_299  Column_300  \n",
       "0         NaN         NaN         NaN         NaN         NaN        0.43  \n",
       "1         NaN         NaN        0.36         NaN         NaN        0.25  \n",
       "2         NaN         NaN        0.36         NaN         NaN        0.43  \n",
       "3         NaN         NaN         NaN         NaN         NaN        0.43  \n",
       "4         NaN         NaN        0.36         NaN         NaN        0.33  \n",
       "\n",
       "[5 rows x 304 columns]"
      ]
     },
     "execution_count": 139,
     "metadata": {},
     "output_type": "execute_result"
    }
   ],
   "source": [
    "train.head()"
   ]
  },
  {
   "cell_type": "code",
   "execution_count": 140,
   "id": "4e90c791-b532-494a-969a-99e8a2390f42",
   "metadata": {
    "execution": {
     "iopub.execute_input": "2022-01-04T21:18:54.780079Z",
     "iopub.status.busy": "2022-01-04T21:18:54.779710Z",
     "iopub.status.idle": "2022-01-04T21:18:54.800180Z",
     "shell.execute_reply": "2022-01-04T21:18:54.798321Z",
     "shell.execute_reply.started": "2022-01-04T21:18:54.780044Z"
    },
    "tags": []
   },
   "outputs": [
    {
     "data": {
      "text/plain": [
       "score            0\n",
       "qid              0\n",
       "score_pred       0\n",
       "Column_0      3005\n",
       "Column_1      1544\n",
       "              ... \n",
       "Column_296    3005\n",
       "Column_297     988\n",
       "Column_298    2970\n",
       "Column_299    2652\n",
       "Column_300     195\n",
       "Length: 304, dtype: int64"
      ]
     },
     "execution_count": 140,
     "metadata": {},
     "output_type": "execute_result"
    }
   ],
   "source": [
    "train.isna().sum()"
   ]
  },
  {
   "cell_type": "markdown",
   "id": "a5a095c0-6f17-43eb-b938-e2e0f5047ed0",
   "metadata": {},
   "source": [
    "### Calculate NDCG@5 Score and confirm with Modeling Metrics"
   ]
  },
  {
   "cell_type": "code",
   "execution_count": 141,
   "id": "90b8db7d-ebbb-4f81-b874-58ada28991a9",
   "metadata": {
    "execution": {
     "iopub.execute_input": "2022-01-04T21:18:55.702552Z",
     "iopub.status.busy": "2022-01-04T21:18:55.702221Z",
     "iopub.status.idle": "2022-01-04T21:18:55.708776Z",
     "shell.execute_reply": "2022-01-04T21:18:55.706253Z",
     "shell.execute_reply.started": "2022-01-04T21:18:55.702520Z"
    },
    "tags": []
   },
   "outputs": [],
   "source": [
    "from sklearn.metrics import ndcg_score"
   ]
  },
  {
   "cell_type": "code",
   "execution_count": 142,
   "id": "1f24ac63-4c10-4c25-bbcd-9247ede9d245",
   "metadata": {
    "execution": {
     "iopub.execute_input": "2022-01-04T21:18:56.208250Z",
     "iopub.status.busy": "2022-01-04T21:18:56.207912Z",
     "iopub.status.idle": "2022-01-04T21:18:56.216193Z",
     "shell.execute_reply": "2022-01-04T21:18:56.213078Z",
     "shell.execute_reply.started": "2022-01-04T21:18:56.208218Z"
    },
    "tags": []
   },
   "outputs": [],
   "source": [
    "def calc_ndcg_per_query(grp, k):\n",
    "    \n",
    "    if grp['score'].nunique()>1:\n",
    "        return ndcg_score([grp['score'].values], [grp['score_pred'].values], k=k)\n",
    "    else:\n",
    "        # if query has only one doc\n",
    "        return np.nan"
   ]
  },
  {
   "cell_type": "code",
   "execution_count": 143,
   "id": "0845cb0a-f0f3-4e05-bfdf-093f1a20e21f",
   "metadata": {
    "execution": {
     "iopub.execute_input": "2022-01-04T21:18:57.352284Z",
     "iopub.status.busy": "2022-01-04T21:18:57.351983Z",
     "iopub.status.idle": "2022-01-04T21:18:57.537965Z",
     "shell.execute_reply": "2022-01-04T21:18:57.536869Z",
     "shell.execute_reply.started": "2022-01-04T21:18:57.352254Z"
    },
    "tags": []
   },
   "outputs": [],
   "source": [
    "ndcg_per_query = train.groupby(\"qid\").apply(calc_ndcg_per_query, k=5)"
   ]
  },
  {
   "cell_type": "code",
   "execution_count": 144,
   "id": "1bbfd876-99b4-4cb3-89d8-ee25c3a43082",
   "metadata": {
    "execution": {
     "iopub.execute_input": "2022-01-04T21:18:57.632418Z",
     "iopub.status.busy": "2022-01-04T21:18:57.630502Z",
     "iopub.status.idle": "2022-01-04T21:18:57.645779Z",
     "shell.execute_reply": "2022-01-04T21:18:57.641540Z",
     "shell.execute_reply.started": "2022-01-04T21:18:57.632327Z"
    },
    "tags": []
   },
   "outputs": [
    {
     "data": {
      "text/plain": [
       "0.9852633534576977"
      ]
     },
     "execution_count": 144,
     "metadata": {},
     "output_type": "execute_result"
    }
   ],
   "source": [
    "ndcg_per_query.mean()"
   ]
  },
  {
   "cell_type": "code",
   "execution_count": 145,
   "id": "50ca5d40-5883-417b-906d-862ce4025fe5",
   "metadata": {
    "execution": {
     "iopub.execute_input": "2022-01-04T21:18:58.192319Z",
     "iopub.status.busy": "2022-01-04T21:18:58.191693Z",
     "iopub.status.idle": "2022-01-04T21:18:58.204939Z",
     "shell.execute_reply": "2022-01-04T21:18:58.203530Z",
     "shell.execute_reply.started": "2022-01-04T21:18:58.192263Z"
    },
    "tags": []
   },
   "outputs": [],
   "source": [
    "train['score_pred'] = cli_preds"
   ]
  },
  {
   "cell_type": "code",
   "execution_count": 146,
   "id": "1509bf6e-8e6e-40ba-8c05-11530578cf1e",
   "metadata": {
    "execution": {
     "iopub.execute_input": "2022-01-04T21:18:58.597554Z",
     "iopub.status.busy": "2022-01-04T21:18:58.596992Z",
     "iopub.status.idle": "2022-01-04T21:18:58.815553Z",
     "shell.execute_reply": "2022-01-04T21:18:58.813416Z",
     "shell.execute_reply.started": "2022-01-04T21:18:58.597497Z"
    },
    "tags": []
   },
   "outputs": [
    {
     "data": {
      "text/plain": [
       "0.9852633534576977"
      ]
     },
     "execution_count": 146,
     "metadata": {},
     "output_type": "execute_result"
    }
   ],
   "source": [
    "train.groupby(\"qid\").apply(calc_ndcg_per_query, k=5).mean()"
   ]
  },
  {
   "cell_type": "markdown",
   "id": "7d09c051-5d9c-4998-beeb-0d60ae69b200",
   "metadata": {},
   "source": [
    "> Prediction performance in agreement"
   ]
  },
  {
   "cell_type": "code",
   "execution_count": null,
   "id": "d880134d-d3c6-4c26-98be-e1bf007325fe",
   "metadata": {},
   "outputs": [],
   "source": []
  }
 ],
 "metadata": {
  "kernelspec": {
   "display_name": "Python 3 (ipykernel)",
   "language": "python",
   "name": "python3"
  },
  "language_info": {
   "codemirror_mode": {
    "name": "ipython",
    "version": 3
   },
   "file_extension": ".py",
   "mimetype": "text/x-python",
   "name": "python",
   "nbconvert_exporter": "python",
   "pygments_lexer": "ipython3",
   "version": "3.7.12"
  }
 },
 "nbformat": 4,
 "nbformat_minor": 5
}
