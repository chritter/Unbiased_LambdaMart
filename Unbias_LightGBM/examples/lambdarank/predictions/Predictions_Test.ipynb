{
 "cells": [
  {
   "cell_type": "markdown",
   "id": "8a7d7e0b-94a2-4615-a5b1-71d3029acd84",
   "metadata": {},
   "source": [
    "# Load Model for Predictions & Evaluate Predictions"
   ]
  },
  {
   "cell_type": "code",
   "execution_count": 1,
   "id": "963f9ae0-9ee5-4e2f-85c6-fb2a68815ce5",
   "metadata": {
    "execution": {
     "iopub.execute_input": "2022-01-04T19:41:59.035737Z",
     "iopub.status.busy": "2022-01-04T19:41:59.032583Z",
     "iopub.status.idle": "2022-01-04T19:42:00.346659Z",
     "shell.execute_reply": "2022-01-04T19:42:00.346021Z",
     "shell.execute_reply.started": "2022-01-04T19:41:59.035466Z"
    },
    "tags": []
   },
   "outputs": [],
   "source": [
    "import sys\n",
    "import pandas as pd\n",
    "import numpy as np"
   ]
  },
  {
   "cell_type": "code",
   "execution_count": 2,
   "id": "d2da737b-d983-4a4b-af61-f308e9895c33",
   "metadata": {
    "execution": {
     "iopub.execute_input": "2022-01-04T19:42:00.348877Z",
     "iopub.status.busy": "2022-01-04T19:42:00.348574Z",
     "iopub.status.idle": "2022-01-04T19:42:01.687257Z",
     "shell.execute_reply": "2022-01-04T19:42:01.685981Z",
     "shell.execute_reply.started": "2022-01-04T19:42:00.348836Z"
    },
    "tags": []
   },
   "outputs": [],
   "source": [
    "sys.path.append(\"../../../python-package\")\n",
    "import lightgbm as lgb"
   ]
  },
  {
   "cell_type": "markdown",
   "id": "ccc039f5-6abe-480b-92dd-4ae7c91e5188",
   "metadata": {},
   "source": [
    "## I. Read Model and Data"
   ]
  },
  {
   "cell_type": "code",
   "execution_count": 3,
   "id": "9ff3b813-8911-4a31-85a5-6396b72380ce",
   "metadata": {
    "execution": {
     "iopub.execute_input": "2022-01-04T19:42:01.688729Z",
     "iopub.status.busy": "2022-01-04T19:42:01.688479Z",
     "iopub.status.idle": "2022-01-04T19:42:01.733789Z",
     "shell.execute_reply": "2022-01-04T19:42:01.732590Z",
     "shell.execute_reply.started": "2022-01-04T19:42:01.688705Z"
    },
    "tags": []
   },
   "outputs": [],
   "source": [
    "model = lgb.Booster(model_file='LightGBM_model.txt')"
   ]
  },
  {
   "cell_type": "code",
   "execution_count": 77,
   "id": "ea0c979f-7633-4614-b0bb-6c0b6d6f3e90",
   "metadata": {
    "execution": {
     "iopub.execute_input": "2022-01-04T20:13:19.418507Z",
     "iopub.status.busy": "2022-01-04T20:13:19.418197Z",
     "iopub.status.idle": "2022-01-04T20:13:19.430454Z",
     "shell.execute_reply": "2022-01-04T20:13:19.428027Z",
     "shell.execute_reply.started": "2022-01-04T20:13:19.418477Z"
    },
    "tags": []
   },
   "outputs": [
    {
     "data": {
      "text/plain": [
       "['Column_0', 'Column_1', 'Column_2', 'Column_3', 'Column_4']"
      ]
     },
     "execution_count": 77,
     "metadata": {},
     "output_type": "execute_result"
    }
   ],
   "source": [
    "feature_names = model.feature_name()\n",
    "feature_names[:5]"
   ]
  },
  {
   "cell_type": "code",
   "execution_count": 78,
   "id": "5f917028-4176-4d26-bb51-96de288ca792",
   "metadata": {
    "execution": {
     "iopub.execute_input": "2022-01-04T20:13:30.554272Z",
     "iopub.status.busy": "2022-01-04T20:13:30.553763Z",
     "iopub.status.idle": "2022-01-04T20:13:30.578313Z",
     "shell.execute_reply": "2022-01-04T20:13:30.576908Z",
     "shell.execute_reply.started": "2022-01-04T20:13:30.554232Z"
    }
   },
   "outputs": [
    {
     "data": {
      "text/plain": [
       "301"
      ]
     },
     "execution_count": 78,
     "metadata": {},
     "output_type": "execute_result"
    }
   ],
   "source": [
    "len(feature_names)"
   ]
  },
  {
   "cell_type": "code",
   "execution_count": null,
   "id": "f65f3bc5-de61-4905-b914-bcb1a8ca7227",
   "metadata": {},
   "outputs": [],
   "source": []
  },
  {
   "cell_type": "code",
   "execution_count": 6,
   "id": "145fa24a-2447-4aa1-b648-081c11c59d51",
   "metadata": {
    "execution": {
     "iopub.execute_input": "2022-01-04T19:42:01.786109Z",
     "iopub.status.busy": "2022-01-04T19:42:01.785008Z",
     "iopub.status.idle": "2022-01-04T19:42:01.803667Z",
     "shell.execute_reply": "2022-01-04T19:42:01.802535Z",
     "shell.execute_reply.started": "2022-01-04T19:42:01.786059Z"
    },
    "tags": []
   },
   "outputs": [],
   "source": [
    "def parse_line(line):\n",
    "    \n",
    "    linesp = line.split()\n",
    "    score = linesp[0]\n",
    "    feats = linesp[1:]\n",
    "    feats = {el.split(\":\")[0]:float(el.split(\":\")[1]) for el in feats}\n",
    "    feats['score'] = float(score)\n",
    "    \n",
    "    return feats\n",
    "    \n",
    "def parse_test_file(filename, query_filename=None):\n",
    "    \n",
    "    with open(filename) as f:\n",
    "        lines = f.readlines()\n",
    "        \n",
    "    test = pd.DataFrame.from_dict([parse_line(line) for line in lines])\n",
    "    cols = test.columns.to_list()\n",
    "    cols.remove(\"score\")\n",
    "    cols_sorted = sorted(cols, key=lambda txt: int(txt))\n",
    "    \n",
    "    test = test[['score'] + cols_sorted]\n",
    "    \n",
    "    if not query_filename: return test\n",
    "    \n",
    "    queries = pd.read_csv(query_filename, header=None).astype(int)\n",
    "    #queries = queries.rename(columns={0:\"qid\"})\n",
    "    test_q = test.copy()\n",
    "\n",
    "    query_col = []\n",
    "    # set arbitrary but unique query id\n",
    "    for i, q in enumerate(queries[0]):\n",
    "        query_col.extend([i]*q)\n",
    "    len(query_col)\n",
    "\n",
    "    test_q.insert(0, 'qid', query_col)\n",
    "    \n",
    "    return test_q\n",
    "    \n",
    "    \n",
    "    "
   ]
  },
  {
   "cell_type": "code",
   "execution_count": 118,
   "id": "0c3ef13b-0139-4470-a224-83a5b40e6984",
   "metadata": {
    "execution": {
     "iopub.execute_input": "2022-01-04T21:18:17.760461Z",
     "iopub.status.busy": "2022-01-04T21:18:17.760059Z",
     "iopub.status.idle": "2022-01-04T21:18:17.952408Z",
     "shell.execute_reply": "2022-01-04T21:18:17.951036Z",
     "shell.execute_reply.started": "2022-01-04T21:18:17.760429Z"
    },
    "tags": []
   },
   "outputs": [
    {
     "data": {
      "text/html": [
       "<div>\n",
       "<style scoped>\n",
       "    .dataframe tbody tr th:only-of-type {\n",
       "        vertical-align: middle;\n",
       "    }\n",
       "\n",
       "    .dataframe tbody tr th {\n",
       "        vertical-align: top;\n",
       "    }\n",
       "\n",
       "    .dataframe thead th {\n",
       "        text-align: right;\n",
       "    }\n",
       "</style>\n",
       "<table border=\"1\" class=\"dataframe\">\n",
       "  <thead>\n",
       "    <tr style=\"text-align: right;\">\n",
       "      <th></th>\n",
       "      <th>qid</th>\n",
       "      <th>score</th>\n",
       "      <th>1</th>\n",
       "      <th>2</th>\n",
       "      <th>6</th>\n",
       "      <th>7</th>\n",
       "      <th>8</th>\n",
       "      <th>9</th>\n",
       "      <th>10</th>\n",
       "      <th>11</th>\n",
       "      <th>...</th>\n",
       "      <th>289</th>\n",
       "      <th>290</th>\n",
       "      <th>291</th>\n",
       "      <th>292</th>\n",
       "      <th>294</th>\n",
       "      <th>295</th>\n",
       "      <th>297</th>\n",
       "      <th>298</th>\n",
       "      <th>299</th>\n",
       "      <th>300</th>\n",
       "    </tr>\n",
       "  </thead>\n",
       "  <tbody>\n",
       "    <tr>\n",
       "      <th>0</th>\n",
       "      <td>0</td>\n",
       "      <td>2.0</td>\n",
       "      <td>0.74</td>\n",
       "      <td>NaN</td>\n",
       "      <td>0.87</td>\n",
       "      <td>NaN</td>\n",
       "      <td>0.75</td>\n",
       "      <td>0.8</td>\n",
       "      <td>NaN</td>\n",
       "      <td>0.88</td>\n",
       "      <td>...</td>\n",
       "      <td>NaN</td>\n",
       "      <td>0.86</td>\n",
       "      <td>NaN</td>\n",
       "      <td>NaN</td>\n",
       "      <td>NaN</td>\n",
       "      <td>NaN</td>\n",
       "      <td>0.36</td>\n",
       "      <td>NaN</td>\n",
       "      <td>0.99</td>\n",
       "      <td>0.70</td>\n",
       "    </tr>\n",
       "    <tr>\n",
       "      <th>1</th>\n",
       "      <td>0</td>\n",
       "      <td>3.0</td>\n",
       "      <td>0.74</td>\n",
       "      <td>NaN</td>\n",
       "      <td>0.81</td>\n",
       "      <td>NaN</td>\n",
       "      <td>0.60</td>\n",
       "      <td>0.8</td>\n",
       "      <td>NaN</td>\n",
       "      <td>0.88</td>\n",
       "      <td>...</td>\n",
       "      <td>NaN</td>\n",
       "      <td>0.86</td>\n",
       "      <td>NaN</td>\n",
       "      <td>NaN</td>\n",
       "      <td>NaN</td>\n",
       "      <td>NaN</td>\n",
       "      <td>0.36</td>\n",
       "      <td>NaN</td>\n",
       "      <td>NaN</td>\n",
       "      <td>0.43</td>\n",
       "    </tr>\n",
       "    <tr>\n",
       "      <th>2</th>\n",
       "      <td>0</td>\n",
       "      <td>2.0</td>\n",
       "      <td>0.74</td>\n",
       "      <td>NaN</td>\n",
       "      <td>0.80</td>\n",
       "      <td>NaN</td>\n",
       "      <td>0.60</td>\n",
       "      <td>NaN</td>\n",
       "      <td>NaN</td>\n",
       "      <td>0.88</td>\n",
       "      <td>...</td>\n",
       "      <td>NaN</td>\n",
       "      <td>0.98</td>\n",
       "      <td>NaN</td>\n",
       "      <td>NaN</td>\n",
       "      <td>NaN</td>\n",
       "      <td>NaN</td>\n",
       "      <td>0.36</td>\n",
       "      <td>NaN</td>\n",
       "      <td>NaN</td>\n",
       "      <td>0.70</td>\n",
       "    </tr>\n",
       "    <tr>\n",
       "      <th>3</th>\n",
       "      <td>0</td>\n",
       "      <td>0.0</td>\n",
       "      <td>0.74</td>\n",
       "      <td>NaN</td>\n",
       "      <td>0.84</td>\n",
       "      <td>0.81</td>\n",
       "      <td>0.66</td>\n",
       "      <td>0.8</td>\n",
       "      <td>NaN</td>\n",
       "      <td>0.88</td>\n",
       "      <td>...</td>\n",
       "      <td>NaN</td>\n",
       "      <td>0.95</td>\n",
       "      <td>NaN</td>\n",
       "      <td>NaN</td>\n",
       "      <td>NaN</td>\n",
       "      <td>NaN</td>\n",
       "      <td>0.36</td>\n",
       "      <td>NaN</td>\n",
       "      <td>0.88</td>\n",
       "      <td>0.55</td>\n",
       "    </tr>\n",
       "    <tr>\n",
       "      <th>4</th>\n",
       "      <td>0</td>\n",
       "      <td>2.0</td>\n",
       "      <td>0.74</td>\n",
       "      <td>NaN</td>\n",
       "      <td>0.91</td>\n",
       "      <td>0.81</td>\n",
       "      <td>0.83</td>\n",
       "      <td>0.8</td>\n",
       "      <td>NaN</td>\n",
       "      <td>0.88</td>\n",
       "      <td>...</td>\n",
       "      <td>NaN</td>\n",
       "      <td>0.90</td>\n",
       "      <td>NaN</td>\n",
       "      <td>NaN</td>\n",
       "      <td>NaN</td>\n",
       "      <td>NaN</td>\n",
       "      <td>0.36</td>\n",
       "      <td>NaN</td>\n",
       "      <td>0.97</td>\n",
       "      <td>0.43</td>\n",
       "    </tr>\n",
       "  </tbody>\n",
       "</table>\n",
       "<p>5 rows × 219 columns</p>\n",
       "</div>"
      ],
      "text/plain": [
       "   qid  score     1   2     6     7     8    9  10    11  ...  289   290  291  \\\n",
       "0    0    2.0  0.74 NaN  0.87   NaN  0.75  0.8 NaN  0.88  ...  NaN  0.86  NaN   \n",
       "1    0    3.0  0.74 NaN  0.81   NaN  0.60  0.8 NaN  0.88  ...  NaN  0.86  NaN   \n",
       "2    0    2.0  0.74 NaN  0.80   NaN  0.60  NaN NaN  0.88  ...  NaN  0.98  NaN   \n",
       "3    0    0.0  0.74 NaN  0.84  0.81  0.66  0.8 NaN  0.88  ...  NaN  0.95  NaN   \n",
       "4    0    2.0  0.74 NaN  0.91  0.81  0.83  0.8 NaN  0.88  ...  NaN  0.90  NaN   \n",
       "\n",
       "   292  294  295   297  298   299   300  \n",
       "0  NaN  NaN  NaN  0.36  NaN  0.99  0.70  \n",
       "1  NaN  NaN  NaN  0.36  NaN   NaN  0.43  \n",
       "2  NaN  NaN  NaN  0.36  NaN   NaN  0.70  \n",
       "3  NaN  NaN  NaN  0.36  NaN  0.88  0.55  \n",
       "4  NaN  NaN  NaN  0.36  NaN  0.97  0.43  \n",
       "\n",
       "[5 rows x 219 columns]"
      ]
     },
     "execution_count": 118,
     "metadata": {},
     "output_type": "execute_result"
    }
   ],
   "source": [
    "test = parse_test_file(\"rank.test\", \"../rank.test.query\")\n",
    "test.head()"
   ]
  },
  {
   "cell_type": "code",
   "execution_count": 119,
   "id": "155b4638-5c59-4b51-97ca-748488ed2aa7",
   "metadata": {
    "execution": {
     "iopub.execute_input": "2022-01-04T21:18:18.023839Z",
     "iopub.status.busy": "2022-01-04T21:18:18.023026Z",
     "iopub.status.idle": "2022-01-04T21:18:18.037427Z",
     "shell.execute_reply": "2022-01-04T21:18:18.034845Z",
     "shell.execute_reply.started": "2022-01-04T21:18:18.023771Z"
    },
    "tags": []
   },
   "outputs": [
    {
     "data": {
      "text/plain": [
       "(768, 219)"
      ]
     },
     "execution_count": 119,
     "metadata": {},
     "output_type": "execute_result"
    }
   ],
   "source": [
    "test.shape"
   ]
  },
  {
   "cell_type": "code",
   "execution_count": 120,
   "id": "8d11eeac-fd43-4b17-a50d-3a7d15345951",
   "metadata": {
    "execution": {
     "iopub.execute_input": "2022-01-04T21:18:18.264860Z",
     "iopub.status.busy": "2022-01-04T21:18:18.264128Z",
     "iopub.status.idle": "2022-01-04T21:18:18.279264Z",
     "shell.execute_reply": "2022-01-04T21:18:18.278141Z",
     "shell.execute_reply.started": "2022-01-04T21:18:18.264817Z"
    },
    "tags": []
   },
   "outputs": [],
   "source": [
    "def adjust_features_for_model(model, df, extra_cols=['qid', 'score']):\n",
    "    \n",
    "    feat_cols = [col for col in df.columns if col not in extra_cols]\n",
    "    \n",
    "    all_feats = pd.DataFrame(columns=model.feature_name())\n",
    "\n",
    "    for col in feat_cols:\n",
    "        col_name = f\"Column_{col}\"\n",
    "        #print(col_name)\n",
    "        all_feats[col_name] = df[col]\n",
    "    all_feats = all_feats.astype(float)\n",
    "        \n",
    "    for col in extra_cols:\n",
    "        all_feats.insert(0, col, df[col])\n",
    "        \n",
    "    return all_feats"
   ]
  },
  {
   "cell_type": "code",
   "execution_count": 121,
   "id": "723a7556-1e55-4a3a-99ce-dc4d2cfff6c7",
   "metadata": {
    "execution": {
     "iopub.execute_input": "2022-01-04T21:18:18.507786Z",
     "iopub.status.busy": "2022-01-04T21:18:18.506991Z",
     "iopub.status.idle": "2022-01-04T21:18:18.925910Z",
     "shell.execute_reply": "2022-01-04T21:18:18.924729Z",
     "shell.execute_reply.started": "2022-01-04T21:18:18.507726Z"
    },
    "tags": []
   },
   "outputs": [
    {
     "name": "stderr",
     "output_type": "stream",
     "text": [
      "/Users/christian/opt/anaconda3/envs/searchrec/lib/python3.7/site-packages/IPython/core/interactiveshell.py:3444: PerformanceWarning: DataFrame is highly fragmented.  This is usually the result of calling `frame.insert` many times, which has poor performance.  Consider joining all columns at once using pd.concat(axis=1) instead.  To get a de-fragmented frame, use `newframe = frame.copy()`\n",
      "  exec(code_obj, self.user_global_ns, self.user_ns)\n"
     ]
    }
   ],
   "source": [
    "test = adjust_features_for_model(model, test)"
   ]
  },
  {
   "cell_type": "code",
   "execution_count": 122,
   "id": "7e0cdce6-efab-4fd8-9132-071ddcffcd69",
   "metadata": {
    "execution": {
     "iopub.execute_input": "2022-01-04T21:18:18.939089Z",
     "iopub.status.busy": "2022-01-04T21:18:18.938382Z",
     "iopub.status.idle": "2022-01-04T21:18:18.983608Z",
     "shell.execute_reply": "2022-01-04T21:18:18.982605Z",
     "shell.execute_reply.started": "2022-01-04T21:18:18.939047Z"
    },
    "tags": []
   },
   "outputs": [
    {
     "data": {
      "text/html": [
       "<div>\n",
       "<style scoped>\n",
       "    .dataframe tbody tr th:only-of-type {\n",
       "        vertical-align: middle;\n",
       "    }\n",
       "\n",
       "    .dataframe tbody tr th {\n",
       "        vertical-align: top;\n",
       "    }\n",
       "\n",
       "    .dataframe thead th {\n",
       "        text-align: right;\n",
       "    }\n",
       "</style>\n",
       "<table border=\"1\" class=\"dataframe\">\n",
       "  <thead>\n",
       "    <tr style=\"text-align: right;\">\n",
       "      <th></th>\n",
       "      <th>score</th>\n",
       "      <th>qid</th>\n",
       "      <th>Column_0</th>\n",
       "      <th>Column_1</th>\n",
       "      <th>Column_2</th>\n",
       "      <th>Column_3</th>\n",
       "      <th>Column_4</th>\n",
       "      <th>Column_5</th>\n",
       "      <th>Column_6</th>\n",
       "      <th>Column_7</th>\n",
       "      <th>...</th>\n",
       "      <th>Column_291</th>\n",
       "      <th>Column_292</th>\n",
       "      <th>Column_293</th>\n",
       "      <th>Column_294</th>\n",
       "      <th>Column_295</th>\n",
       "      <th>Column_296</th>\n",
       "      <th>Column_297</th>\n",
       "      <th>Column_298</th>\n",
       "      <th>Column_299</th>\n",
       "      <th>Column_300</th>\n",
       "    </tr>\n",
       "  </thead>\n",
       "  <tbody>\n",
       "    <tr>\n",
       "      <th>0</th>\n",
       "      <td>2.0</td>\n",
       "      <td>0</td>\n",
       "      <td>NaN</td>\n",
       "      <td>0.74</td>\n",
       "      <td>NaN</td>\n",
       "      <td>NaN</td>\n",
       "      <td>NaN</td>\n",
       "      <td>NaN</td>\n",
       "      <td>0.87</td>\n",
       "      <td>NaN</td>\n",
       "      <td>...</td>\n",
       "      <td>NaN</td>\n",
       "      <td>NaN</td>\n",
       "      <td>NaN</td>\n",
       "      <td>NaN</td>\n",
       "      <td>NaN</td>\n",
       "      <td>NaN</td>\n",
       "      <td>0.36</td>\n",
       "      <td>NaN</td>\n",
       "      <td>0.99</td>\n",
       "      <td>0.70</td>\n",
       "    </tr>\n",
       "    <tr>\n",
       "      <th>1</th>\n",
       "      <td>3.0</td>\n",
       "      <td>0</td>\n",
       "      <td>NaN</td>\n",
       "      <td>0.74</td>\n",
       "      <td>NaN</td>\n",
       "      <td>NaN</td>\n",
       "      <td>NaN</td>\n",
       "      <td>NaN</td>\n",
       "      <td>0.81</td>\n",
       "      <td>NaN</td>\n",
       "      <td>...</td>\n",
       "      <td>NaN</td>\n",
       "      <td>NaN</td>\n",
       "      <td>NaN</td>\n",
       "      <td>NaN</td>\n",
       "      <td>NaN</td>\n",
       "      <td>NaN</td>\n",
       "      <td>0.36</td>\n",
       "      <td>NaN</td>\n",
       "      <td>NaN</td>\n",
       "      <td>0.43</td>\n",
       "    </tr>\n",
       "    <tr>\n",
       "      <th>2</th>\n",
       "      <td>2.0</td>\n",
       "      <td>0</td>\n",
       "      <td>NaN</td>\n",
       "      <td>0.74</td>\n",
       "      <td>NaN</td>\n",
       "      <td>NaN</td>\n",
       "      <td>NaN</td>\n",
       "      <td>NaN</td>\n",
       "      <td>0.80</td>\n",
       "      <td>NaN</td>\n",
       "      <td>...</td>\n",
       "      <td>NaN</td>\n",
       "      <td>NaN</td>\n",
       "      <td>NaN</td>\n",
       "      <td>NaN</td>\n",
       "      <td>NaN</td>\n",
       "      <td>NaN</td>\n",
       "      <td>0.36</td>\n",
       "      <td>NaN</td>\n",
       "      <td>NaN</td>\n",
       "      <td>0.70</td>\n",
       "    </tr>\n",
       "    <tr>\n",
       "      <th>3</th>\n",
       "      <td>0.0</td>\n",
       "      <td>0</td>\n",
       "      <td>NaN</td>\n",
       "      <td>0.74</td>\n",
       "      <td>NaN</td>\n",
       "      <td>NaN</td>\n",
       "      <td>NaN</td>\n",
       "      <td>NaN</td>\n",
       "      <td>0.84</td>\n",
       "      <td>0.81</td>\n",
       "      <td>...</td>\n",
       "      <td>NaN</td>\n",
       "      <td>NaN</td>\n",
       "      <td>NaN</td>\n",
       "      <td>NaN</td>\n",
       "      <td>NaN</td>\n",
       "      <td>NaN</td>\n",
       "      <td>0.36</td>\n",
       "      <td>NaN</td>\n",
       "      <td>0.88</td>\n",
       "      <td>0.55</td>\n",
       "    </tr>\n",
       "    <tr>\n",
       "      <th>4</th>\n",
       "      <td>2.0</td>\n",
       "      <td>0</td>\n",
       "      <td>NaN</td>\n",
       "      <td>0.74</td>\n",
       "      <td>NaN</td>\n",
       "      <td>NaN</td>\n",
       "      <td>NaN</td>\n",
       "      <td>NaN</td>\n",
       "      <td>0.91</td>\n",
       "      <td>0.81</td>\n",
       "      <td>...</td>\n",
       "      <td>NaN</td>\n",
       "      <td>NaN</td>\n",
       "      <td>NaN</td>\n",
       "      <td>NaN</td>\n",
       "      <td>NaN</td>\n",
       "      <td>NaN</td>\n",
       "      <td>0.36</td>\n",
       "      <td>NaN</td>\n",
       "      <td>0.97</td>\n",
       "      <td>0.43</td>\n",
       "    </tr>\n",
       "  </tbody>\n",
       "</table>\n",
       "<p>5 rows × 303 columns</p>\n",
       "</div>"
      ],
      "text/plain": [
       "   score  qid  Column_0  Column_1  Column_2  Column_3  Column_4  Column_5  \\\n",
       "0    2.0    0       NaN      0.74       NaN       NaN       NaN       NaN   \n",
       "1    3.0    0       NaN      0.74       NaN       NaN       NaN       NaN   \n",
       "2    2.0    0       NaN      0.74       NaN       NaN       NaN       NaN   \n",
       "3    0.0    0       NaN      0.74       NaN       NaN       NaN       NaN   \n",
       "4    2.0    0       NaN      0.74       NaN       NaN       NaN       NaN   \n",
       "\n",
       "   Column_6  Column_7  ...  Column_291  Column_292  Column_293  Column_294  \\\n",
       "0      0.87       NaN  ...         NaN         NaN         NaN         NaN   \n",
       "1      0.81       NaN  ...         NaN         NaN         NaN         NaN   \n",
       "2      0.80       NaN  ...         NaN         NaN         NaN         NaN   \n",
       "3      0.84      0.81  ...         NaN         NaN         NaN         NaN   \n",
       "4      0.91      0.81  ...         NaN         NaN         NaN         NaN   \n",
       "\n",
       "   Column_295  Column_296  Column_297  Column_298  Column_299  Column_300  \n",
       "0         NaN         NaN        0.36         NaN        0.99        0.70  \n",
       "1         NaN         NaN        0.36         NaN         NaN        0.43  \n",
       "2         NaN         NaN        0.36         NaN         NaN        0.70  \n",
       "3         NaN         NaN        0.36         NaN        0.88        0.55  \n",
       "4         NaN         NaN        0.36         NaN        0.97        0.43  \n",
       "\n",
       "[5 rows x 303 columns]"
      ]
     },
     "execution_count": 122,
     "metadata": {},
     "output_type": "execute_result"
    }
   ],
   "source": [
    "test.head()"
   ]
  },
  {
   "cell_type": "markdown",
   "id": "ab1a7884-f0ff-4859-8930-4bf7b586668e",
   "metadata": {},
   "source": [
    "## II. Predictions"
   ]
  },
  {
   "cell_type": "code",
   "execution_count": 123,
   "id": "8473909c-a91e-4a0e-b824-b8b7322405f4",
   "metadata": {
    "execution": {
     "iopub.execute_input": "2022-01-04T21:18:19.439802Z",
     "iopub.status.busy": "2022-01-04T21:18:19.439099Z",
     "iopub.status.idle": "2022-01-04T21:18:19.473486Z",
     "shell.execute_reply": "2022-01-04T21:18:19.471995Z",
     "shell.execute_reply.started": "2022-01-04T21:18:19.439752Z"
    },
    "tags": []
   },
   "outputs": [],
   "source": [
    "preds = model.predict(test[test.columns[2:]])"
   ]
  },
  {
   "cell_type": "code",
   "execution_count": 124,
   "id": "5c145acb-5ec7-4d35-a0a2-5af27aff866d",
   "metadata": {
    "execution": {
     "iopub.execute_input": "2022-01-04T21:18:19.690036Z",
     "iopub.status.busy": "2022-01-04T21:18:19.689328Z",
     "iopub.status.idle": "2022-01-04T21:18:19.713191Z",
     "shell.execute_reply": "2022-01-04T21:18:19.711282Z",
     "shell.execute_reply.started": "2022-01-04T21:18:19.689982Z"
    },
    "tags": []
   },
   "outputs": [
    {
     "data": {
      "text/plain": [
       "array([ 0.31450323, -0.26806001, -0.04428472, -0.01040121, -0.11274014,\n",
       "       -0.20809923, -0.25287134,  0.26225523, -0.29988372, -1.10203005])"
      ]
     },
     "execution_count": 124,
     "metadata": {},
     "output_type": "execute_result"
    }
   ],
   "source": [
    "preds[:10]"
   ]
  },
  {
   "cell_type": "code",
   "execution_count": 125,
   "id": "d3484b14-dc69-4011-bf12-f6c0a895d5b4",
   "metadata": {
    "execution": {
     "iopub.execute_input": "2022-01-04T21:18:19.995179Z",
     "iopub.status.busy": "2022-01-04T21:18:19.994325Z",
     "iopub.status.idle": "2022-01-04T21:18:20.008502Z",
     "shell.execute_reply": "2022-01-04T21:18:20.006838Z",
     "shell.execute_reply.started": "2022-01-04T21:18:19.995118Z"
    },
    "tags": []
   },
   "outputs": [],
   "source": [
    "cli_preds = pd.read_csv(\"predict_result_test.txt\", header=None)[0]"
   ]
  },
  {
   "cell_type": "code",
   "execution_count": 126,
   "id": "0acfb616-788d-4743-8693-e55369184421",
   "metadata": {
    "execution": {
     "iopub.execute_input": "2022-01-04T21:18:20.305693Z",
     "iopub.status.busy": "2022-01-04T21:18:20.305166Z",
     "iopub.status.idle": "2022-01-04T21:18:20.316553Z",
     "shell.execute_reply": "2022-01-04T21:18:20.314304Z",
     "shell.execute_reply.started": "2022-01-04T21:18:20.305642Z"
    },
    "tags": []
   },
   "outputs": [
    {
     "data": {
      "text/plain": [
       "0    0.314503\n",
       "1   -0.268060\n",
       "2   -0.044285\n",
       "3   -0.010401\n",
       "4   -0.112740\n",
       "5   -0.208099\n",
       "6   -0.252871\n",
       "7    0.262255\n",
       "8   -0.299884\n",
       "9   -1.102030\n",
       "Name: 0, dtype: float64"
      ]
     },
     "execution_count": 126,
     "metadata": {},
     "output_type": "execute_result"
    }
   ],
   "source": [
    "cli_preds[:10]"
   ]
  },
  {
   "cell_type": "markdown",
   "id": "edde5766-fa44-445b-85e6-9139f3a7c8de",
   "metadata": {
    "tags": []
   },
   "source": [
    "## III. Evaluate Predictions"
   ]
  },
  {
   "cell_type": "code",
   "execution_count": 127,
   "id": "c3e3fbb8-258e-4382-9731-fa301540c5d8",
   "metadata": {
    "execution": {
     "iopub.execute_input": "2022-01-04T21:18:21.258767Z",
     "iopub.status.busy": "2022-01-04T21:18:21.258205Z",
     "iopub.status.idle": "2022-01-04T21:18:21.271226Z",
     "shell.execute_reply": "2022-01-04T21:18:21.264613Z",
     "shell.execute_reply.started": "2022-01-04T21:18:21.258723Z"
    },
    "tags": []
   },
   "outputs": [],
   "source": [
    "test.insert(2, 'score_pred', preds)"
   ]
  },
  {
   "cell_type": "code",
   "execution_count": 128,
   "id": "d5f5e366-a72a-4080-8a24-3ed44f384753",
   "metadata": {
    "execution": {
     "iopub.execute_input": "2022-01-04T21:18:21.766998Z",
     "iopub.status.busy": "2022-01-04T21:18:21.766631Z",
     "iopub.status.idle": "2022-01-04T21:18:21.820293Z",
     "shell.execute_reply": "2022-01-04T21:18:21.818936Z",
     "shell.execute_reply.started": "2022-01-04T21:18:21.766963Z"
    },
    "tags": []
   },
   "outputs": [
    {
     "data": {
      "text/html": [
       "<div>\n",
       "<style scoped>\n",
       "    .dataframe tbody tr th:only-of-type {\n",
       "        vertical-align: middle;\n",
       "    }\n",
       "\n",
       "    .dataframe tbody tr th {\n",
       "        vertical-align: top;\n",
       "    }\n",
       "\n",
       "    .dataframe thead th {\n",
       "        text-align: right;\n",
       "    }\n",
       "</style>\n",
       "<table border=\"1\" class=\"dataframe\">\n",
       "  <thead>\n",
       "    <tr style=\"text-align: right;\">\n",
       "      <th></th>\n",
       "      <th>score</th>\n",
       "      <th>qid</th>\n",
       "      <th>score_pred</th>\n",
       "      <th>Column_0</th>\n",
       "      <th>Column_1</th>\n",
       "      <th>Column_2</th>\n",
       "      <th>Column_3</th>\n",
       "      <th>Column_4</th>\n",
       "      <th>Column_5</th>\n",
       "      <th>Column_6</th>\n",
       "      <th>...</th>\n",
       "      <th>Column_291</th>\n",
       "      <th>Column_292</th>\n",
       "      <th>Column_293</th>\n",
       "      <th>Column_294</th>\n",
       "      <th>Column_295</th>\n",
       "      <th>Column_296</th>\n",
       "      <th>Column_297</th>\n",
       "      <th>Column_298</th>\n",
       "      <th>Column_299</th>\n",
       "      <th>Column_300</th>\n",
       "    </tr>\n",
       "  </thead>\n",
       "  <tbody>\n",
       "    <tr>\n",
       "      <th>0</th>\n",
       "      <td>2.0</td>\n",
       "      <td>0</td>\n",
       "      <td>0.314503</td>\n",
       "      <td>NaN</td>\n",
       "      <td>0.74</td>\n",
       "      <td>NaN</td>\n",
       "      <td>NaN</td>\n",
       "      <td>NaN</td>\n",
       "      <td>NaN</td>\n",
       "      <td>0.87</td>\n",
       "      <td>...</td>\n",
       "      <td>NaN</td>\n",
       "      <td>NaN</td>\n",
       "      <td>NaN</td>\n",
       "      <td>NaN</td>\n",
       "      <td>NaN</td>\n",
       "      <td>NaN</td>\n",
       "      <td>0.36</td>\n",
       "      <td>NaN</td>\n",
       "      <td>0.99</td>\n",
       "      <td>0.70</td>\n",
       "    </tr>\n",
       "    <tr>\n",
       "      <th>1</th>\n",
       "      <td>3.0</td>\n",
       "      <td>0</td>\n",
       "      <td>-0.268060</td>\n",
       "      <td>NaN</td>\n",
       "      <td>0.74</td>\n",
       "      <td>NaN</td>\n",
       "      <td>NaN</td>\n",
       "      <td>NaN</td>\n",
       "      <td>NaN</td>\n",
       "      <td>0.81</td>\n",
       "      <td>...</td>\n",
       "      <td>NaN</td>\n",
       "      <td>NaN</td>\n",
       "      <td>NaN</td>\n",
       "      <td>NaN</td>\n",
       "      <td>NaN</td>\n",
       "      <td>NaN</td>\n",
       "      <td>0.36</td>\n",
       "      <td>NaN</td>\n",
       "      <td>NaN</td>\n",
       "      <td>0.43</td>\n",
       "    </tr>\n",
       "    <tr>\n",
       "      <th>2</th>\n",
       "      <td>2.0</td>\n",
       "      <td>0</td>\n",
       "      <td>-0.044285</td>\n",
       "      <td>NaN</td>\n",
       "      <td>0.74</td>\n",
       "      <td>NaN</td>\n",
       "      <td>NaN</td>\n",
       "      <td>NaN</td>\n",
       "      <td>NaN</td>\n",
       "      <td>0.80</td>\n",
       "      <td>...</td>\n",
       "      <td>NaN</td>\n",
       "      <td>NaN</td>\n",
       "      <td>NaN</td>\n",
       "      <td>NaN</td>\n",
       "      <td>NaN</td>\n",
       "      <td>NaN</td>\n",
       "      <td>0.36</td>\n",
       "      <td>NaN</td>\n",
       "      <td>NaN</td>\n",
       "      <td>0.70</td>\n",
       "    </tr>\n",
       "    <tr>\n",
       "      <th>3</th>\n",
       "      <td>0.0</td>\n",
       "      <td>0</td>\n",
       "      <td>-0.010401</td>\n",
       "      <td>NaN</td>\n",
       "      <td>0.74</td>\n",
       "      <td>NaN</td>\n",
       "      <td>NaN</td>\n",
       "      <td>NaN</td>\n",
       "      <td>NaN</td>\n",
       "      <td>0.84</td>\n",
       "      <td>...</td>\n",
       "      <td>NaN</td>\n",
       "      <td>NaN</td>\n",
       "      <td>NaN</td>\n",
       "      <td>NaN</td>\n",
       "      <td>NaN</td>\n",
       "      <td>NaN</td>\n",
       "      <td>0.36</td>\n",
       "      <td>NaN</td>\n",
       "      <td>0.88</td>\n",
       "      <td>0.55</td>\n",
       "    </tr>\n",
       "    <tr>\n",
       "      <th>4</th>\n",
       "      <td>2.0</td>\n",
       "      <td>0</td>\n",
       "      <td>-0.112740</td>\n",
       "      <td>NaN</td>\n",
       "      <td>0.74</td>\n",
       "      <td>NaN</td>\n",
       "      <td>NaN</td>\n",
       "      <td>NaN</td>\n",
       "      <td>NaN</td>\n",
       "      <td>0.91</td>\n",
       "      <td>...</td>\n",
       "      <td>NaN</td>\n",
       "      <td>NaN</td>\n",
       "      <td>NaN</td>\n",
       "      <td>NaN</td>\n",
       "      <td>NaN</td>\n",
       "      <td>NaN</td>\n",
       "      <td>0.36</td>\n",
       "      <td>NaN</td>\n",
       "      <td>0.97</td>\n",
       "      <td>0.43</td>\n",
       "    </tr>\n",
       "  </tbody>\n",
       "</table>\n",
       "<p>5 rows × 304 columns</p>\n",
       "</div>"
      ],
      "text/plain": [
       "   score  qid  score_pred  Column_0  Column_1  Column_2  Column_3  Column_4  \\\n",
       "0    2.0    0    0.314503       NaN      0.74       NaN       NaN       NaN   \n",
       "1    3.0    0   -0.268060       NaN      0.74       NaN       NaN       NaN   \n",
       "2    2.0    0   -0.044285       NaN      0.74       NaN       NaN       NaN   \n",
       "3    0.0    0   -0.010401       NaN      0.74       NaN       NaN       NaN   \n",
       "4    2.0    0   -0.112740       NaN      0.74       NaN       NaN       NaN   \n",
       "\n",
       "   Column_5  Column_6  ...  Column_291  Column_292  Column_293  Column_294  \\\n",
       "0       NaN      0.87  ...         NaN         NaN         NaN         NaN   \n",
       "1       NaN      0.81  ...         NaN         NaN         NaN         NaN   \n",
       "2       NaN      0.80  ...         NaN         NaN         NaN         NaN   \n",
       "3       NaN      0.84  ...         NaN         NaN         NaN         NaN   \n",
       "4       NaN      0.91  ...         NaN         NaN         NaN         NaN   \n",
       "\n",
       "   Column_295  Column_296  Column_297  Column_298  Column_299  Column_300  \n",
       "0         NaN         NaN        0.36         NaN        0.99        0.70  \n",
       "1         NaN         NaN        0.36         NaN         NaN        0.43  \n",
       "2         NaN         NaN        0.36         NaN         NaN        0.70  \n",
       "3         NaN         NaN        0.36         NaN        0.88        0.55  \n",
       "4         NaN         NaN        0.36         NaN        0.97        0.43  \n",
       "\n",
       "[5 rows x 304 columns]"
      ]
     },
     "execution_count": 128,
     "metadata": {},
     "output_type": "execute_result"
    }
   ],
   "source": [
    "test.head()"
   ]
  },
  {
   "cell_type": "markdown",
   "id": "a5a095c0-6f17-43eb-b938-e2e0f5047ed0",
   "metadata": {},
   "source": [
    "### Calculate NDCG@5 Score and confirm with Modeling Metrics"
   ]
  },
  {
   "cell_type": "code",
   "execution_count": 129,
   "id": "90b8db7d-ebbb-4f81-b874-58ada28991a9",
   "metadata": {
    "execution": {
     "iopub.execute_input": "2022-01-04T21:18:23.007688Z",
     "iopub.status.busy": "2022-01-04T21:18:23.007057Z",
     "iopub.status.idle": "2022-01-04T21:18:23.022808Z",
     "shell.execute_reply": "2022-01-04T21:18:23.021128Z",
     "shell.execute_reply.started": "2022-01-04T21:18:23.007637Z"
    },
    "tags": []
   },
   "outputs": [],
   "source": [
    "from sklearn.metrics import ndcg_score"
   ]
  },
  {
   "cell_type": "code",
   "execution_count": 137,
   "id": "1f24ac63-4c10-4c25-bbcd-9247ede9d245",
   "metadata": {
    "execution": {
     "iopub.execute_input": "2022-01-04T21:31:20.749559Z",
     "iopub.status.busy": "2022-01-04T21:31:20.748134Z",
     "iopub.status.idle": "2022-01-04T21:31:20.793878Z",
     "shell.execute_reply": "2022-01-04T21:31:20.792717Z",
     "shell.execute_reply.started": "2022-01-04T21:31:20.749457Z"
    },
    "tags": []
   },
   "outputs": [],
   "source": [
    "def calc_ndcg_per_query(grp, k):\n",
    "    \n",
    "    if grp['score'].nunique()>1:\n",
    "        return ndcg_score([grp['score'].values], [grp['score_pred'].values], k=k)\n",
    "    else:\n",
    "        # if query has only one doc\n",
    "        return np.nan"
   ]
  },
  {
   "cell_type": "code",
   "execution_count": 131,
   "id": "0845cb0a-f0f3-4e05-bfdf-093f1a20e21f",
   "metadata": {
    "execution": {
     "iopub.execute_input": "2022-01-04T21:18:23.645905Z",
     "iopub.status.busy": "2022-01-04T21:18:23.645165Z",
     "iopub.status.idle": "2022-01-04T21:18:23.736725Z",
     "shell.execute_reply": "2022-01-04T21:18:23.735980Z",
     "shell.execute_reply.started": "2022-01-04T21:18:23.645855Z"
    },
    "tags": []
   },
   "outputs": [],
   "source": [
    "ndcg_per_query = test.groupby(\"qid\").apply(calc_ndcg_per_query, k=5)"
   ]
  },
  {
   "cell_type": "code",
   "execution_count": 132,
   "id": "1bbfd876-99b4-4cb3-89d8-ee25c3a43082",
   "metadata": {
    "execution": {
     "iopub.execute_input": "2022-01-04T21:18:24.049598Z",
     "iopub.status.busy": "2022-01-04T21:18:24.049166Z",
     "iopub.status.idle": "2022-01-04T21:18:24.057227Z",
     "shell.execute_reply": "2022-01-04T21:18:24.056120Z",
     "shell.execute_reply.started": "2022-01-04T21:18:24.049559Z"
    },
    "tags": []
   },
   "outputs": [
    {
     "data": {
      "text/plain": [
       "0.7015621882967505"
      ]
     },
     "execution_count": 132,
     "metadata": {},
     "output_type": "execute_result"
    }
   ],
   "source": [
    "ndcg_per_query.mean()"
   ]
  },
  {
   "cell_type": "markdown",
   "id": "0469061a-be56-44be-9f80-6d8977da6e75",
   "metadata": {},
   "source": [
    "> NDCG@5 is in agreement with best metric value in evaluation during training (Evaluation_ReadLogs) "
   ]
  },
  {
   "cell_type": "code",
   "execution_count": 133,
   "id": "98edcc17-c09c-4c78-afcf-bb9e56bdd947",
   "metadata": {
    "execution": {
     "iopub.execute_input": "2022-01-04T21:18:27.342457Z",
     "iopub.status.busy": "2022-01-04T21:18:27.342108Z",
     "iopub.status.idle": "2022-01-04T21:18:27.357466Z",
     "shell.execute_reply": "2022-01-04T21:18:27.353781Z",
     "shell.execute_reply.started": "2022-01-04T21:18:27.342427Z"
    },
    "tags": []
   },
   "outputs": [],
   "source": [
    "test['score_pred'] = cli_preds"
   ]
  },
  {
   "cell_type": "code",
   "execution_count": 134,
   "id": "5afc4143-d75e-4bd7-b887-eee0e4517e39",
   "metadata": {
    "execution": {
     "iopub.execute_input": "2022-01-04T21:18:27.601081Z",
     "iopub.status.busy": "2022-01-04T21:18:27.600683Z",
     "iopub.status.idle": "2022-01-04T21:18:27.666901Z",
     "shell.execute_reply": "2022-01-04T21:18:27.665459Z",
     "shell.execute_reply.started": "2022-01-04T21:18:27.601040Z"
    },
    "tags": []
   },
   "outputs": [
    {
     "data": {
      "text/plain": [
       "0.7015621882967505"
      ]
     },
     "execution_count": 134,
     "metadata": {},
     "output_type": "execute_result"
    }
   ],
   "source": [
    "test.groupby(\"qid\").apply(calc_ndcg_per_query, k=5).mean()"
   ]
  },
  {
   "cell_type": "code",
   "execution_count": 141,
   "id": "15b6d106-dfe2-4a1f-a676-8b315950d700",
   "metadata": {
    "execution": {
     "iopub.execute_input": "2022-01-04T21:58:43.085885Z",
     "iopub.status.busy": "2022-01-04T21:58:43.085493Z",
     "iopub.status.idle": "2022-01-04T21:58:43.099723Z",
     "shell.execute_reply": "2022-01-04T21:58:43.096630Z",
     "shell.execute_reply.started": "2022-01-04T21:58:43.085846Z"
    },
    "tags": []
   },
   "outputs": [
    {
     "data": {
      "text/plain": [
       "array([2., 3., 0., 1., 4.])"
      ]
     },
     "execution_count": 141,
     "metadata": {},
     "output_type": "execute_result"
    }
   ],
   "source": [
    "test['score'].unique()"
   ]
  },
  {
   "cell_type": "markdown",
   "id": "b1ffa017-3885-4b96-8d2b-f4ea7b86ab2d",
   "metadata": {},
   "source": [
    "> In agreement between cli prediction and model python sdk prediction"
   ]
  },
  {
   "cell_type": "markdown",
   "id": "bdb2724f-cf78-40a7-b407-3f0fdf83f5ec",
   "metadata": {},
   "source": [
    "With random results:"
   ]
  },
  {
   "cell_type": "code",
   "execution_count": 138,
   "id": "8e83872d-531d-4060-8509-fa019d0720f3",
   "metadata": {
    "execution": {
     "iopub.execute_input": "2022-01-04T21:35:05.681368Z",
     "iopub.status.busy": "2022-01-04T21:35:05.680983Z",
     "iopub.status.idle": "2022-01-04T21:35:05.695907Z",
     "shell.execute_reply": "2022-01-04T21:35:05.693835Z",
     "shell.execute_reply.started": "2022-01-04T21:35:05.681329Z"
    },
    "tags": []
   },
   "outputs": [],
   "source": [
    "np.random.seed(10)\n",
    "test['score_pred'] = np.random.random(test.shape[0])"
   ]
  },
  {
   "cell_type": "code",
   "execution_count": 136,
   "id": "be00ce83-937c-4cf2-bbc2-ced35b484129",
   "metadata": {
    "execution": {
     "iopub.execute_input": "2022-01-04T21:18:31.169317Z",
     "iopub.status.busy": "2022-01-04T21:18:31.168999Z",
     "iopub.status.idle": "2022-01-04T21:18:31.239298Z",
     "shell.execute_reply": "2022-01-04T21:18:31.237803Z",
     "shell.execute_reply.started": "2022-01-04T21:18:31.169286Z"
    },
    "tags": []
   },
   "outputs": [
    {
     "data": {
      "text/plain": [
       "0.5635562126414108"
      ]
     },
     "execution_count": 136,
     "metadata": {},
     "output_type": "execute_result"
    }
   ],
   "source": [
    "test.groupby(\"qid\").apply(calc_ndcg_per_query, k=5).mean()"
   ]
  },
  {
   "cell_type": "code",
   "execution_count": null,
   "id": "7e3bebb8-a918-437a-8585-192dd2af9cfb",
   "metadata": {},
   "outputs": [],
   "source": []
  }
 ],
 "metadata": {
  "kernelspec": {
   "display_name": "Python 3 (ipykernel)",
   "language": "python",
   "name": "python3"
  },
  "language_info": {
   "codemirror_mode": {
    "name": "ipython",
    "version": 3
   },
   "file_extension": ".py",
   "mimetype": "text/x-python",
   "name": "python",
   "nbconvert_exporter": "python",
   "pygments_lexer": "ipython3",
   "version": "3.7.12"
  }
 },
 "nbformat": 4,
 "nbformat_minor": 5
}
